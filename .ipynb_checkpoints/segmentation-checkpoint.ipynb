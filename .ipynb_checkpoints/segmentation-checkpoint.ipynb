{
 "cells": [
  {
   "cell_type": "markdown",
   "id": "03cb6ce3",
   "metadata": {},
   "source": [
    "# Note : I had all the training images in the directory structure as: \n",
    "(current Directory of jupyter notebook)\n",
    "- Train.csv\n",
    "- train_images\n",
    "        - video_0\n",
    "        - video_1\n",
    "        - video_2"
   ]
  },
  {
   "cell_type": "code",
   "execution_count": 1,
   "id": "9fe7925f",
   "metadata": {},
   "outputs": [],
   "source": [
    "import pandas as pd\n",
    "import csv\n",
    "import ast\n",
    "import os\n",
    "from PIL import Image"
   ]
  },
  {
   "cell_type": "markdown",
   "id": "7f32fcfc",
   "metadata": {},
   "source": [
    "# Note: I had removed all the rows which do not have the Starfish Just to avoid Hardwork needed to exclude what case while coding."
   ]
  },
  {
   "cell_type": "code",
   "execution_count": 2,
   "id": "524adb9b",
   "metadata": {},
   "outputs": [
    {
     "data": {
      "text/html": [
       "<div>\n",
       "<style scoped>\n",
       "    .dataframe tbody tr th:only-of-type {\n",
       "        vertical-align: middle;\n",
       "    }\n",
       "\n",
       "    .dataframe tbody tr th {\n",
       "        vertical-align: top;\n",
       "    }\n",
       "\n",
       "    .dataframe thead th {\n",
       "        text-align: right;\n",
       "    }\n",
       "</style>\n",
       "<table border=\"1\" class=\"dataframe\">\n",
       "  <thead>\n",
       "    <tr style=\"text-align: right;\">\n",
       "      <th></th>\n",
       "      <th>video_id</th>\n",
       "      <th>video_frame</th>\n",
       "      <th>image_id</th>\n",
       "      <th>annotations</th>\n",
       "    </tr>\n",
       "  </thead>\n",
       "  <tbody>\n",
       "    <tr>\n",
       "      <th>0</th>\n",
       "      <td>0</td>\n",
       "      <td>16</td>\n",
       "      <td>0-16</td>\n",
       "      <td>[{'x': 559, 'y': 213, 'width': 50, 'height': 32}]</td>\n",
       "    </tr>\n",
       "    <tr>\n",
       "      <th>1</th>\n",
       "      <td>0</td>\n",
       "      <td>17</td>\n",
       "      <td>0-17</td>\n",
       "      <td>[{'x': 558, 'y': 213, 'width': 50, 'height': 32}]</td>\n",
       "    </tr>\n",
       "    <tr>\n",
       "      <th>2</th>\n",
       "      <td>0</td>\n",
       "      <td>18</td>\n",
       "      <td>0-18</td>\n",
       "      <td>[{'x': 557, 'y': 213, 'width': 50, 'height': 32}]</td>\n",
       "    </tr>\n",
       "    <tr>\n",
       "      <th>3</th>\n",
       "      <td>0</td>\n",
       "      <td>19</td>\n",
       "      <td>0-19</td>\n",
       "      <td>[{'x': 556, 'y': 214, 'width': 50, 'height': 32}]</td>\n",
       "    </tr>\n",
       "    <tr>\n",
       "      <th>4</th>\n",
       "      <td>0</td>\n",
       "      <td>20</td>\n",
       "      <td>0-20</td>\n",
       "      <td>[{'x': 555, 'y': 214, 'width': 50, 'height': 32}]</td>\n",
       "    </tr>\n",
       "  </tbody>\n",
       "</table>\n",
       "</div>"
      ],
      "text/plain": [
       "   video_id  video_frame image_id  \\\n",
       "0         0           16     0-16   \n",
       "1         0           17     0-17   \n",
       "2         0           18     0-18   \n",
       "3         0           19     0-19   \n",
       "4         0           20     0-20   \n",
       "\n",
       "                                         annotations  \n",
       "0  [{'x': 559, 'y': 213, 'width': 50, 'height': 32}]  \n",
       "1  [{'x': 558, 'y': 213, 'width': 50, 'height': 32}]  \n",
       "2  [{'x': 557, 'y': 213, 'width': 50, 'height': 32}]  \n",
       "3  [{'x': 556, 'y': 214, 'width': 50, 'height': 32}]  \n",
       "4  [{'x': 555, 'y': 214, 'width': 50, 'height': 32}]  "
      ]
     },
     "execution_count": 2,
     "metadata": {},
     "output_type": "execute_result"
    }
   ],
   "source": [
    "df = pd.read_csv('train.csv')\n",
    "df.head()"
   ]
  },
  {
   "cell_type": "code",
   "execution_count": 3,
   "id": "9551bec2",
   "metadata": {},
   "outputs": [],
   "source": [
    "def crop_image(image_path, x, y, w, h, output_path):\n",
    "    # Open the image\n",
    "    image = Image.open(image_path)\n",
    "\n",
    "    # Calculate the crop coordinates\n",
    "    left = x                                                \n",
    "    top = y\n",
    "    right = x + w\n",
    "    bottom = y + h\n",
    "\n",
    "    # Crop the image\n",
    "    cropped_image = image.crop((left, top, right, bottom))\n",
    "    \n",
    "    # Create the 'cropped' directory if it doesn't exist\n",
    "    if not os.path.exists('segmented'):\n",
    "        os.makedirs('segmented')\n",
    "    \n",
    "    # Construct the full output path with the 'cropped' directory\n",
    "    output_path = os.path.join('segmented', output_path)\n",
    "    \n",
    "    # Save the cropped image\n",
    "    cropped_image.save(output_path)"
   ]
  },
  {
   "cell_type": "code",
   "execution_count": 4,
   "id": "085ad69a",
   "metadata": {},
   "outputs": [],
   "source": [
    "def read_annotations(filename):\n",
    "    annotations = []\n",
    "\n",
    "    with open(filename, 'r') as file:\n",
    "        csv_reader = csv.DictReader(file)\n",
    "        for row in csv_reader:\n",
    "            annotation_str = row['annotations']\n",
    "            annotation_list = ast.literal_eval(annotation_str)\n",
    "            \n",
    "            image_id = row['image_id']\n",
    "            \n",
    "            frame_number = row['video_id']\n",
    "            \n",
    "            video_frame = row['video_frame']\n",
    "            \n",
    "            image_path = os.path.join('train_images', f'video_{frame_number}', f'{video_frame}.jpg')\n",
    "            \n",
    "            for i, annotation in enumerate(annotation_list, start=1):\n",
    "                x = annotation['x']\n",
    "                y = annotation['y']\n",
    "                w = annotation['width']\n",
    "                h = annotation['height']\n",
    "                \n",
    "                output_path = f'cots_image_{frame_number}_{video_frame}-{i}.jpg'\n",
    "\n",
    "                crop_image(image_path, x, y, w, h, output_path)\n"
   ]
  },
  {
   "cell_type": "code",
   "execution_count": 5,
   "id": "0ebd24c0",
   "metadata": {},
   "outputs": [],
   "source": [
    "filename = 'train.csv'\n",
    "read_annotations(filename)"
   ]
  }
 ],
 "metadata": {
  "kernelspec": {
   "display_name": "Python 3 (ipykernel)",
   "language": "python",
   "name": "python3"
  },
  "language_info": {
   "codemirror_mode": {
    "name": "ipython",
    "version": 3
   },
   "file_extension": ".py",
   "mimetype": "text/x-python",
   "name": "python",
   "nbconvert_exporter": "python",
   "pygments_lexer": "ipython3",
   "version": "3.10.4"
  }
 },
 "nbformat": 4,
 "nbformat_minor": 5
}
